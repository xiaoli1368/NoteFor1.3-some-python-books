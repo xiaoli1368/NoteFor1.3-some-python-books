{
 "cells": [
  {
   "cell_type": "markdown",
   "metadata": {},
   "source": [
    "## Python编程：从入门到实践"
   ]
  },
  {
   "cell_type": "markdown",
   "metadata": {},
   "source": [
    "### 第一章 起步"
   ]
  },
  {
   "cell_type": "code",
   "execution_count": 1,
   "metadata": {},
   "outputs": [
    {
     "name": "stdout",
     "output_type": "stream",
     "text": [
      "Hello Python interpreter!\n"
     ]
    }
   ],
   "source": [
    "print('Hello Python interpreter!')"
   ]
  },
  {
   "cell_type": "code",
   "execution_count": 2,
   "metadata": {},
   "outputs": [
    {
     "name": "stdout",
     "output_type": "stream",
     "text": [
      "Hello world!\n"
     ]
    }
   ],
   "source": [
    "print('Hello world!')"
   ]
  },
  {
   "cell_type": "markdown",
   "metadata": {},
   "source": [
    "### 第二章 变量和简单数据类型"
   ]
  },
  {
   "cell_type": "code",
   "execution_count": 3,
   "metadata": {},
   "outputs": [
    {
     "name": "stdout",
     "output_type": "stream",
     "text": [
      "Hello Python world!\n"
     ]
    }
   ],
   "source": [
    "print('Hello Python world!')"
   ]
  },
  {
   "cell_type": "code",
   "execution_count": 5,
   "metadata": {},
   "outputs": [
    {
     "name": "stdout",
     "output_type": "stream",
     "text": [
      "Hello Python world!\n",
      "Hello Python Crash Course world!\n"
     ]
    }
   ],
   "source": [
    "message = 'Hello Python world!'\n",
    "print(message)\n",
    "\n",
    "message = 'Hello Python Crash Course world!'\n",
    "print(message)"
   ]
  },
  {
   "cell_type": "code",
   "execution_count": 8,
   "metadata": {},
   "outputs": [
    {
     "name": "stdout",
     "output_type": "stream",
     "text": [
      "Ada Lovelace\n",
      "Help on method_descriptor:\n",
      "\n",
      "title(self, /)\n",
      "    Return a version of the string where each word is titlecased.\n",
      "    \n",
      "    More specifically, words start with uppercased characters and all remaining\n",
      "    cased characters have lower case.\n",
      "\n"
     ]
    }
   ],
   "source": [
    "# 修改字符串的大小写\n",
    "name = 'ada lovelace'\n",
    "print(name.title())\n",
    "\n",
    "# 查看帮助\n",
    "help(str.title) # title()以首字母大写的方式显示每个单词"
   ]
  },
  {
   "cell_type": "code",
   "execution_count": 10,
   "metadata": {},
   "outputs": [
    {
     "name": "stdout",
     "output_type": "stream",
     "text": [
      "ADA LOVELACE\n",
      "ada lovelace\n"
     ]
    }
   ],
   "source": [
    "# 将字符串全部修改为大写或者小写\n",
    "name = 'Ada Lovelace'\n",
    "print(name.upper())\n",
    "print(name.lower())"
   ]
  },
  {
   "cell_type": "code",
   "execution_count": 11,
   "metadata": {},
   "outputs": [
    {
     "name": "stdout",
     "output_type": "stream",
     "text": [
      "'ada' + 'lovelace' = 'ada lovelace'\n"
     ]
    }
   ],
   "source": [
    "# 合并字符串\n",
    "first_name = 'ada'\n",
    "last_name = 'lovelace'\n",
    "full_name = first_name + ' ' + last_name\n",
    "print('%r + %r = %r' % (first_name, last_name, full_name))"
   ]
  },
  {
   "cell_type": "code",
   "execution_count": 12,
   "metadata": {},
   "outputs": [
    {
     "name": "stdout",
     "output_type": "stream",
     "text": [
      "\tPython\n"
     ]
    }
   ],
   "source": [
    "# 打印输出制表符\n",
    "print('\\tPython')"
   ]
  },
  {
   "cell_type": "code",
   "execution_count": 18,
   "metadata": {},
   "outputs": [
    {
     "name": "stdout",
     "output_type": "stream",
     "text": [
      "'python '\n",
      "'python'\n",
      "'python '\n"
     ]
    }
   ],
   "source": [
    "# 删除空白\n",
    "favorite_language = 'python '\n",
    "print('%r' % favorite_language)\n",
    "print('%r' % favorite_language.rstrip())\n",
    "print('%r' % favorite_language)\n",
    "\n",
    "# 注意两点\n",
    "# 1. 只能删除末尾\n",
    "# 2. 这种删除只是暂时的\n",
    "# rstrip, lstrip, strip 分别对应删除右，左以及两边都删除"
   ]
  },
  {
   "cell_type": "code",
   "execution_count": 22,
   "metadata": {},
   "outputs": [
    {
     "name": "stdin",
     "output_type": "stream",
     "text": [
      "请您输出字符串： 算法gas/as*fasfasf65  as6f sa8 saf9+5 +\n"
     ]
    },
    {
     "name": "stdout",
     "output_type": "stream",
     "text": [
      "你的原始输入是：'算法gas/as*fasfasf65  as6f sa8 saf9+5 +'\n",
      "去除空格后的是：'算法gas/as*fasfasf65as6fsa8saf9+5+'\n"
     ]
    }
   ],
   "source": [
    "# 思考：如何删除字符串中间的空格\n",
    "inputData = input('请您输出字符串：')\n",
    "outputData = []\n",
    "for i in inputData:\n",
    "    if(ord(i) != 32): # 32 即 20H 也就是 空格的 ASCII 码\n",
    "        outputData.append(i)\n",
    "outputData = ''.join(outputData)\n",
    "print('你的原始输入是：%r' % inputData)\n",
    "print('去除空格后的是：%r' % outputData)"
   ]
  },
  {
   "cell_type": "code",
   "execution_count": 25,
   "metadata": {},
   "outputs": [
    {
     "name": "stdin",
     "output_type": "stream",
     "text": [
      " saf as fa \n"
     ]
    },
    {
     "name": "stdout",
     "output_type": "stream",
     "text": [
      "safasfa\n"
     ]
    }
   ],
   "source": [
    "# 上一个例子换一种方式\n",
    "inputData = input()\n",
    "outputData = inputData.replace(' ', '') # 这个函数可以这样直接调用\n",
    "print(outputData)"
   ]
  },
  {
   "cell_type": "code",
   "execution_count": 28,
   "metadata": {},
   "outputs": [
    {
     "name": "stdout",
     "output_type": "stream",
     "text": [
      "Happy 23rd Birthday!\n"
     ]
    }
   ],
   "source": [
    "# 类型转换\n",
    "print('Happy ' + str(23) + 'rd Birthday!')"
   ]
  },
  {
   "cell_type": "code",
   "execution_count": 29,
   "metadata": {},
   "outputs": [
    {
     "name": "stdout",
     "output_type": "stream",
     "text": [
      "The Zen of Python, by Tim Peters\n",
      "\n",
      "Beautiful is better than ugly.\n",
      "Explicit is better than implicit.\n",
      "Simple is better than complex.\n",
      "Complex is better than complicated.\n",
      "Flat is better than nested.\n",
      "Sparse is better than dense.\n",
      "Readability counts.\n",
      "Special cases aren't special enough to break the rules.\n",
      "Although practicality beats purity.\n",
      "Errors should never pass silently.\n",
      "Unless explicitly silenced.\n",
      "In the face of ambiguity, refuse the temptation to guess.\n",
      "There should be one-- and preferably only one --obvious way to do it.\n",
      "Although that way may not be obvious at first unless you're Dutch.\n",
      "Now is better than never.\n",
      "Although never is often better than *right* now.\n",
      "If the implementation is hard to explain, it's a bad idea.\n",
      "If the implementation is easy to explain, it may be a good idea.\n",
      "Namespaces are one honking great idea -- let's do more of those!\n"
     ]
    }
   ],
   "source": [
    "# Python 之禅\n",
    "import this"
   ]
  },
  {
   "cell_type": "markdown",
   "metadata": {},
   "source": [
    "### 第三章 列表简介"
   ]
  },
  {
   "cell_type": "code",
   "execution_count": null,
   "metadata": {},
   "outputs": [],
   "source": [
    "# 在列表中添加和删除元素\n",
    "\n",
    "'''\n",
    "在末尾添加：append\n",
    "在中间插入：a.insert(2, 'yourthing')\n",
    "从删除元素：del\n",
    "\n",
    "使用del可删除任何位置处的列表元素，条件是知道其索引\n",
    "a = [1,2,3]\n",
    "print(a)\n",
    "del a[0]\n",
    "print(a)\n",
    "\n",
    "方法pop()可删除列表末尾的元素\n",
    "a.pop()\n",
    "\n",
    "方法pop()可删除列表指定位置的元素\n",
    "a.pop(2)\n",
    "\n",
    "如果你只知道要删除的元素的值，可使用方法remove()。\n",
    "方法remove()只删除第一个指定的值。如果要删除的值可能在列表中出现多次，就需要\n",
    "使用循环来判断是否删除了所有这样的值\n",
    "\n",
    "'''"
   ]
  },
  {
   "cell_type": "code",
   "execution_count": 58,
   "metadata": {},
   "outputs": [
    {
     "name": "stdout",
     "output_type": "stream",
     "text": [
      "[1, 2, 3, 4, 5, 6]\n",
      "[2, 3, 4, 5, 6]\n",
      "[2, 4, 5, 6]\n",
      "3\n",
      "[2, 4, 5]\n"
     ]
    }
   ],
   "source": [
    "a = [1,2,3,4,5,6]\n",
    "print(a)\n",
    "del a[0]\n",
    "print(a)\n",
    "b = a.pop(1)\n",
    "print(a)\n",
    "print(b)\n",
    "a.remove(6)\n",
    "print(a)"
   ]
  },
  {
   "cell_type": "code",
   "execution_count": 60,
   "metadata": {},
   "outputs": [
    {
     "name": "stdout",
     "output_type": "stream",
     "text": [
      "[1, 2, 3]\n",
      "[3, 2, 1]\n"
     ]
    }
   ],
   "source": [
    "# help(list)\n",
    "\n",
    "c = [1,2,3]\n",
    "print(c)\n",
    "c.reverse()\n",
    "print(c)"
   ]
  },
  {
   "cell_type": "code",
   "execution_count": 64,
   "metadata": {},
   "outputs": [
    {
     "name": "stdout",
     "output_type": "stream",
     "text": [
      "['bmw', 'audi', 'toyota', 'subaru']\n",
      "['audi', 'bmw', 'subaru', 'toyota']\n",
      "['audi', 'bmw', 'subaru', 'toyota']\n"
     ]
    }
   ],
   "source": [
    "# 关于列表排序\n",
    "cars = ['bmw', 'audi', 'toyota', 'subaru'] \n",
    "print(cars)\n",
    "print(sorted(cars))\n",
    "cars.sort()\n",
    "print(cars)"
   ]
  },
  {
   "cell_type": "markdown",
   "metadata": {},
   "source": [
    "### 第四章 操作列表"
   ]
  },
  {
   "cell_type": "code",
   "execution_count": 65,
   "metadata": {},
   "outputs": [
    {
     "name": "stdout",
     "output_type": "stream",
     "text": [
      "alice\n",
      "david\n",
      "carolina\n"
     ]
    }
   ],
   "source": [
    "# 使用for循环遍历整个列表\n",
    "magicians = ['alice', 'david', 'carolina']\n",
    "for i in magicians:\n",
    "    print(i)"
   ]
  },
  {
   "cell_type": "code",
   "execution_count": 1,
   "metadata": {},
   "outputs": [
    {
     "name": "stdout",
     "output_type": "stream",
     "text": [
      "1\n",
      "2\n",
      "3\n",
      "4\n"
     ]
    }
   ],
   "source": [
    "# 创建数值列表\n",
    "for value in range(1, 5):\n",
    "    print(value)"
   ]
  },
  {
   "cell_type": "code",
   "execution_count": 3,
   "metadata": {},
   "outputs": [
    {
     "name": "stdout",
     "output_type": "stream",
     "text": [
      "[1, 2, 3, 4, 5]\n",
      "[1, 3, 5]\n"
     ]
    }
   ],
   "source": [
    "# 使用list和range创建数字列表\n",
    "number = list(range(1, 6))\n",
    "print(number)\n",
    "\n",
    "number2 = list(range(1, 6, 2))\n",
    "print(number2)"
   ]
  },
  {
   "cell_type": "code",
   "execution_count": 4,
   "metadata": {},
   "outputs": [
    {
     "name": "stdout",
     "output_type": "stream",
     "text": [
      "[1, 4, 9, 16, 25, 36, 49, 64, 81, 100]\n"
     ]
    }
   ],
   "source": [
    "# 创建列表为前10个正整数的平方\n",
    "data = [i**2 for i in range(1, 11)]\n",
    "print(data)"
   ]
  },
  {
   "cell_type": "code",
   "execution_count": 25,
   "metadata": {},
   "outputs": [
    {
     "name": "stdout",
     "output_type": "stream",
     "text": [
      "[1, 2, 3, 4, 5, 6, 7, 8, 9, 10, 11, 12, 13, 14, 15, 16, 17, 18, 19, 20]\n",
      "499999500000\n",
      "[1, 3, 5, 7, 9, 11, 13, 15, 17, 19]\n",
      "[3, 6, 9, 12, 15, 18, 21, 24, 27, 30]\n",
      "[1, 8, 27, 64, 125, 216, 343, 512, 729, 1000]\n"
     ]
    }
   ],
   "source": [
    "# 关于列表解析的一些练习\n",
    "\n",
    "# 打印输出1-20\n",
    "print(list(range(1, 21)))\n",
    "\n",
    "# 打印输出1到100万的和\n",
    "print(sum(range(1, 1000000)))\n",
    "\n",
    "# 打印输出 1-20 的奇数\n",
    "print([i for i in range(1, 21) if i % 2 == 1])\n",
    "\n",
    "# 打印出 3-30 内3的倍数\n",
    "print([i for i in range(3, 31) if i % 3 == 0])\n",
    "\n",
    "# 打印出前10个正整数的立方\n",
    "print([i**3 for i in range(1, 11)])"
   ]
  },
  {
   "cell_type": "code",
   "execution_count": null,
   "metadata": {},
   "outputs": [],
   "source": [
    "# 关于列表的切片\n",
    "\n",
    "# 这里注意一维切片和二维切片的不同\n",
    "\n",
    "# 对一维切片\n",
    "'''\n",
    "首部：0\n",
    "尾部：：\n",
    "倒数：-x\n",
    "\n",
    "\n",
    "'''"
   ]
  },
  {
   "cell_type": "code",
   "execution_count": 32,
   "metadata": {},
   "outputs": [],
   "source": [
    "# 复制列表的方法\n",
    "test = [4, 5, 8, 9]\n",
    "test2 = test[:]"
   ]
  },
  {
   "cell_type": "code",
   "execution_count": 34,
   "metadata": {},
   "outputs": [
    {
     "name": "stdout",
     "output_type": "stream",
     "text": [
      "200\n",
      "50\n"
     ]
    }
   ],
   "source": [
    "# 关于元组\n",
    "\n",
    "# 列表的初始化使用方括号\n",
    "# 元组的初始化使用小括号\n",
    "\n",
    "# 但是二者索引的时候统一都使用的是方括号\n",
    "\n",
    "dimensions = (200, 50)\n",
    "for i in dimensions:\n",
    "    print(i)"
   ]
  },
  {
   "cell_type": "markdown",
   "metadata": {},
   "source": [
    "### 第五章 if语句"
   ]
  },
  {
   "cell_type": "code",
   "execution_count": 36,
   "metadata": {},
   "outputs": [
    {
     "name": "stdout",
     "output_type": "stream",
     "text": [
      "True\n",
      "True\n"
     ]
    }
   ],
   "source": [
    "# 关于 in 的使用\n",
    "test = 'asdfhaskf'\n",
    "print('a' in test)\n",
    "print('b' not in test)"
   ]
  },
  {
   "cell_type": "markdown",
   "metadata": {},
   "source": [
    "### 第六章 字典"
   ]
  },
  {
   "cell_type": "code",
   "execution_count": 42,
   "metadata": {},
   "outputs": [
    {
     "name": "stdout",
     "output_type": "stream",
     "text": [
      "username efermi\n",
      "first enrico\n",
      "last fermi\n",
      "------------------------\n",
      "username\n",
      "first\n",
      "last\n"
     ]
    }
   ],
   "source": [
    "# 注意：字典的初始化是使用花括号的\n",
    "\n",
    "# 如何遍历字典\n",
    "user_0 = { \n",
    " 'username': 'efermi', \n",
    " 'first': 'enrico', \n",
    " 'last': 'fermi', \n",
    " } \n",
    "\n",
    "for key, value in user_0.items():\n",
    "    print(key, value)\n",
    "\n",
    "print('------------------------')\n",
    "    \n",
    "for key in user_0.keys():\n",
    "    print(key)\n",
    "\n",
    "# 说明：\n",
    "'''\n",
    "方法keys()并非只能用于遍历；实际上，\n",
    "它返回一个列表，其中包含字典中的所有键\n",
    "'''"
   ]
  },
  {
   "cell_type": "code",
   "execution_count": 44,
   "metadata": {},
   "outputs": [
    {
     "name": "stdout",
     "output_type": "stream",
     "text": [
      "{'color': 'green', 'points': 5, 'speed': 'slow'}\n",
      "{'color': 'green', 'points': 5, 'speed': 'slow'}\n",
      "{'color': 'green', 'points': 5, 'speed': 'slow'}\n",
      "{'color': 'green', 'points': 5, 'speed': 'slow'}\n",
      "{'color': 'green', 'points': 5, 'speed': 'slow'}\n",
      "{'color': 'green', 'points': 5, 'speed': 'slow'}\n",
      "{'color': 'green', 'points': 5, 'speed': 'slow'}\n",
      "{'color': 'green', 'points': 5, 'speed': 'slow'}\n",
      "{'color': 'green', 'points': 5, 'speed': 'slow'}\n",
      "{'color': 'green', 'points': 5, 'speed': 'slow'}\n"
     ]
    }
   ],
   "source": [
    "# 列表和字典之间的嵌套\n",
    "\n",
    "aliens = []\n",
    "\n",
    "for alien_number in range(10):\n",
    "    new_alien = {'color': 'green', 'points': 5, 'speed': 'slow'}\n",
    "    aliens.append(new_alien)\n",
    "\n",
    "for i in aliens:\n",
    "    print(i)"
   ]
  },
  {
   "cell_type": "markdown",
   "metadata": {},
   "source": [
    "### 第七章 用户输入和while循环"
   ]
  },
  {
   "cell_type": "code",
   "execution_count": null,
   "metadata": {},
   "outputs": [],
   "source": [
    "# 函数input的使用"
   ]
  },
  {
   "cell_type": "code",
   "execution_count": 45,
   "metadata": {},
   "outputs": [
    {
     "name": "stdout",
     "output_type": "stream",
     "text": [
      "['dog', 'cat', 'dog', 'goldfish', 'cat', 'rabbit', 'cat']\n",
      "['dog', 'cat', 'dog', 'goldfish', 'cat', 'rabbit', 'cat']\n"
     ]
    }
   ],
   "source": [
    "# 关于while循环配合列表的用法\n",
    "\n",
    "pets = ['dog', 'cat', 'dog', 'goldfish', 'cat', 'rabbit', 'cat'] \n",
    "print(pets)\n",
    "\n",
    "# 删除所有的cat(这种方式很巧妙)\n",
    "while 'cats' in pets:\n",
    "    pets.remove('cats')\n",
    "\n",
    "print(pets)"
   ]
  },
  {
   "cell_type": "markdown",
   "metadata": {},
   "source": [
    "### 第八章 函数"
   ]
  },
  {
   "cell_type": "code",
   "execution_count": 46,
   "metadata": {},
   "outputs": [
    {
     "name": "stdout",
     "output_type": "stream",
     "text": [
      "Hello world!\n"
     ]
    }
   ],
   "source": [
    "# 写完函数后，首先就要写注释\n",
    "def greet_user():\n",
    "    '''显示简单的问候语'''\n",
    "    print('Hello world!')\n",
    "\n",
    "greet_user()"
   ]
  },
  {
   "cell_type": "code",
   "execution_count": 47,
   "metadata": {},
   "outputs": [
    {
     "name": "stdout",
     "output_type": "stream",
     "text": [
      "[1, 2, 3]\n",
      "[2, 3]\n"
     ]
    }
   ],
   "source": [
    "# 函数修改列表\n",
    "\n",
    "a = [1,2,3]\n",
    "def test(a):\n",
    "    del a[0]\n",
    "print(a)\n",
    "test(a)\n",
    "print(a)"
   ]
  },
  {
   "cell_type": "code",
   "execution_count": 48,
   "metadata": {},
   "outputs": [
    {
     "name": "stdout",
     "output_type": "stream",
     "text": [
      "[1, 2, 3]\n",
      "[1, 2, 3]\n"
     ]
    }
   ],
   "source": [
    "# 禁止函数修改列表\n",
    "a = [1,2,3]\n",
    "def test(a):\n",
    "    del a[0]\n",
    "print(a)\n",
    "test(a[:])\n",
    "print(a)"
   ]
  },
  {
   "cell_type": "markdown",
   "metadata": {},
   "source": [
    "### 第九章 类"
   ]
  },
  {
   "cell_type": "code",
   "execution_count": null,
   "metadata": {},
   "outputs": [],
   "source": []
  }
 ],
 "metadata": {
  "kernelspec": {
   "display_name": "Python 3",
   "language": "python",
   "name": "python3"
  },
  "language_info": {
   "codemirror_mode": {
    "name": "ipython",
    "version": 3
   },
   "file_extension": ".py",
   "mimetype": "text/x-python",
   "name": "python",
   "nbconvert_exporter": "python",
   "pygments_lexer": "ipython3",
   "version": "3.6.4"
  }
 },
 "nbformat": 4,
 "nbformat_minor": 4
}
